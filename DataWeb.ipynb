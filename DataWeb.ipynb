{
 "cells": [
  {
   "cell_type": "code",
   "execution_count": 1,
   "metadata": {},
   "outputs": [],
   "source": [
    "from flask import Flask, redirect, url_for, render_template\n",
    "import pandas as pd\n",
    "import json\n",
    "import altair as alt\n",
    "from vega_datasets import data"
   ]
  },
  {
   "cell_type": "code",
   "execution_count": 2,
   "metadata": {},
   "outputs": [],
   "source": [
    "app = Flask(__name__)"
   ]
  },
  {
   "cell_type": "code",
   "execution_count": 3,
   "metadata": {},
   "outputs": [],
   "source": [
    "with open('/Users/honeyeh/Downloads/Data Interaction Techniques/P5/templates/pastTechEvents50.json') as f:\n",
    "    dataf = pd.DataFrame(json.load(f))\n",
    "    dataf"
   ]
  },
  {
   "cell_type": "code",
   "execution_count": 4,
   "metadata": {},
   "outputs": [
    {
     "data": {
      "text/plain": [
       "0     17:30\n",
       "1     17:30\n",
       "2     17:30\n",
       "3     17:30\n",
       "4     17:30\n",
       "5     17:30\n",
       "6     17:30\n",
       "7     17:00\n",
       "8     17:30\n",
       "9     17:30\n",
       "10    17:30\n",
       "11    18:00\n",
       "12    17:30\n",
       "13    17:30\n",
       "14    17:30\n",
       "15    17:30\n",
       "16    19:00\n",
       "17    17:00\n",
       "18    17:00\n",
       "19    17:00\n",
       "20    18:30\n",
       "21    18:30\n",
       "22    18:00\n",
       "23    18:00\n",
       "24    18:00\n",
       "25    18:00\n",
       "26    18:00\n",
       "27    18:00\n",
       "28    18:00\n",
       "29    18:00\n",
       "30    18:00\n",
       "31    18:00\n",
       "32    18:00\n",
       "33    18:00\n",
       "34    18:00\n",
       "35    18:00\n",
       "36    18:00\n",
       "37    18:00\n",
       "38    18:00\n",
       "39    18:30\n",
       "40    18:00\n",
       "41    18:00\n",
       "42    08:00\n",
       "43    18:00\n",
       "44    16:00\n",
       "45    15:00\n",
       "46    15:00\n",
       "47    15:00\n",
       "48    15:00\n",
       "49    15:30\n",
       "Name: local_time, dtype: object"
      ]
     },
     "execution_count": 4,
     "metadata": {},
     "output_type": "execute_result"
    }
   ],
   "source": [
    "local_time = dataf.local_time.astype('str')\n",
    "local_time"
   ]
  },
  {
   "cell_type": "code",
   "execution_count": 5,
   "metadata": {},
   "outputs": [],
   "source": [
    "@app.route(\"/\")\n",
    "def index():\n",
    "    return render_template('index.html')"
   ]
  },
  {
   "cell_type": "code",
   "execution_count": 6,
   "metadata": {},
   "outputs": [],
   "source": [
    "@app.route(\"/vis/\")\n",
    "def data_waterfall():\n",
    "    chart = alt.Chart(dataf).mark_bar().encode(\n",
    "    x='local_time:O',\n",
    "    y='yes_rsvp_count:Q',\n",
    "    color=alt.Color('local_time', legend=alt.Legend(title=\"time\")))\n",
    "    return chart.to_html()"
   ]
  },
  {
   "cell_type": "code",
   "execution_count": null,
   "metadata": {},
   "outputs": [
    {
     "name": "stdout",
     "output_type": "stream",
     "text": [
      " * Serving Flask app \"__main__\" (lazy loading)\n",
      " * Environment: production\n",
      "   WARNING: This is a development server. Do not use it in a production deployment.\n",
      "   Use a production WSGI server instead.\n",
      " * Debug mode: off\n"
     ]
    },
    {
     "name": "stderr",
     "output_type": "stream",
     "text": [
      " * Running on http://127.0.0.1:5000/ (Press CTRL+C to quit)\n",
      "127.0.0.1 - - [29/Nov/2020 18:47:08] \"\u001b[37mGET / HTTP/1.1\u001b[0m\" 200 -\n",
      "127.0.0.1 - - [29/Nov/2020 18:47:08] \"\u001b[33mGET /styles.css HTTP/1.1\u001b[0m\" 404 -\n"
     ]
    }
   ],
   "source": [
    "if __name__ == \"__main__\":\n",
    "    app.run()"
   ]
  },
  {
   "cell_type": "code",
   "execution_count": null,
   "metadata": {},
   "outputs": [],
   "source": []
  }
 ],
 "metadata": {
  "kernelspec": {
   "display_name": "Python 3",
   "language": "python",
   "name": "python3"
  },
  "language_info": {
   "codemirror_mode": {
    "name": "ipython",
    "version": 3
   },
   "file_extension": ".py",
   "mimetype": "text/x-python",
   "name": "python",
   "nbconvert_exporter": "python",
   "pygments_lexer": "ipython3",
   "version": "3.7.4"
  }
 },
 "nbformat": 4,
 "nbformat_minor": 2
}
